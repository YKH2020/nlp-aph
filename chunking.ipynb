{
 "cells": [
  {
   "cell_type": "markdown",
   "id": "54f54539",
   "metadata": {},
   "source": [
    "### __Reading Data__"
   ]
  },
  {
   "cell_type": "code",
   "execution_count": null,
   "id": "ff933f1d",
   "metadata": {},
   "outputs": [],
   "source": [
    "from langchain.document_loaders.pdf import PyPDFDirectoryLoader\n",
    "\n",
    "PATH = './data/in_use'\n",
    "\n",
    "def load_documents(path: str) -> PyPDFDirectoryLoader:\n",
    "    \"\"\"Load PDF documents and print its content.\"\"\"\n",
    "    loader = PyPDFDirectoryLoader(path)\n",
    "    return loader.load()\n",
    "\n",
    "docs = load_documents(PATH)"
   ]
  },
  {
   "cell_type": "code",
   "execution_count": 2,
   "id": "9391a8a4",
   "metadata": {},
   "outputs": [
    {
     "name": "stdout",
     "output_type": "stream",
     "text": [
      "page_content='' metadata={'producer': 'calibre (5.21.0) [https://calibre-ebook.com]', 'creator': 'calibre (5.21.0) [https://calibre-ebook.com]', 'creationdate': '2021-06-28T05:28:50+00:00', 'author': 'Desconocido', 'moddate': '2021-06-28T21:02:08-06:00', 'title': 'Sincerely, Your Autistic Child', 'source': 'data\\\\in_use\\\\source (1).pdf', 'total_pages': 201, 'page': 0, 'page_label': '1'}\n"
     ]
    }
   ],
   "source": [
    "print(docs[0])"
   ]
  },
  {
   "cell_type": "markdown",
   "id": "c7d94001",
   "metadata": {},
   "source": [
    "### __Semantic Chunking w/ OpenAI Embeddings__"
   ]
  },
  {
   "cell_type": "code",
   "execution_count": 3,
   "id": "071865c9",
   "metadata": {},
   "outputs": [
    {
     "data": {
      "text/plain": [
       "True"
      ]
     },
     "execution_count": 3,
     "metadata": {},
     "output_type": "execute_result"
    }
   ],
   "source": [
    "from dotenv import load_dotenv\n",
    "\n",
    "load_dotenv()"
   ]
  },
  {
   "cell_type": "code",
   "execution_count": 4,
   "id": "aae2906a",
   "metadata": {},
   "outputs": [],
   "source": [
    "from langchain_experimental.text_splitter import SemanticChunker\n",
    "from langchain_openai.embeddings import OpenAIEmbeddings\n",
    "\n",
    "text_splitter = SemanticChunker(\n",
    "    OpenAIEmbeddings(), breakpoint_threshold_type=\"percentile\" # Look through params, see if breakpoint_threshold_type is optimal\n",
    ")"
   ]
  },
  {
   "cell_type": "code",
   "execution_count": 5,
   "id": "08a77e1e",
   "metadata": {},
   "outputs": [],
   "source": [
    "pages = []\n",
    "for doc in docs:\n",
    "    pages.append(text_splitter.create_documents(texts=[doc.page_content], metadatas=[doc.metadata]))"
   ]
  },
  {
   "cell_type": "code",
   "execution_count": 6,
   "id": "8161d599",
   "metadata": {},
   "outputs": [
    {
     "data": {
      "text/plain": [
       "1895"
      ]
     },
     "execution_count": 6,
     "metadata": {},
     "output_type": "execute_result"
    }
   ],
   "source": [
    "len(pages)"
   ]
  },
  {
   "cell_type": "code",
   "execution_count": 7,
   "id": "3f96f573",
   "metadata": {},
   "outputs": [],
   "source": [
    "import itertools\n",
    "pages_chunks = list(itertools.chain.from_iterable(pages))"
   ]
  },
  {
   "cell_type": "code",
   "execution_count": 8,
   "id": "f1090c82",
   "metadata": {},
   "outputs": [
    {
     "data": {
      "text/plain": [
       "4197"
      ]
     },
     "execution_count": 8,
     "metadata": {},
     "output_type": "execute_result"
    }
   ],
   "source": [
    "len(pages_chunks)"
   ]
  },
  {
   "cell_type": "code",
   "execution_count": 9,
   "id": "db21189b",
   "metadata": {},
   "outputs": [
    {
     "data": {
      "text/plain": [
       "list"
      ]
     },
     "execution_count": 9,
     "metadata": {},
     "output_type": "execute_result"
    }
   ],
   "source": [
    "type(pages_chunks)"
   ]
  },
  {
   "cell_type": "code",
   "execution_count": 10,
   "id": "46b86355",
   "metadata": {},
   "outputs": [
    {
     "data": {
      "text/plain": [
       "list"
      ]
     },
     "execution_count": 10,
     "metadata": {},
     "output_type": "execute_result"
    }
   ],
   "source": [
    "type(pages)"
   ]
  },
  {
   "cell_type": "markdown",
   "id": "e7d6cea7",
   "metadata": {},
   "source": [
    "### __Store in DB__"
   ]
  },
  {
   "cell_type": "code",
   "execution_count": 11,
   "id": "92988327",
   "metadata": {},
   "outputs": [
    {
     "name": "stdout",
     "output_type": "stream",
     "text": [
      "page_content='' metadata={'producer': 'calibre (5.21.0) [https://calibre-ebook.com]', 'creator': 'calibre (5.21.0) [https://calibre-ebook.com]', 'creationdate': '2021-06-28T05:28:50+00:00', 'author': 'Desconocido', 'moddate': '2021-06-28T21:02:08-06:00', 'title': 'Sincerely, Your Autistic Child', 'source': 'data\\\\in_use\\\\source (1).pdf', 'total_pages': 201, 'page': 0, 'page_label': '1'}\n"
     ]
    }
   ],
   "source": [
    "print(pages_chunks[0])"
   ]
  },
  {
   "cell_type": "code",
   "execution_count": null,
   "id": "593060d8",
   "metadata": {},
   "outputs": [],
   "source": [
    "from langchain.vectorstores.chroma import Chroma\n",
    "\n",
    "def create_db(pages_chunks: list) -> Chroma:\n",
    "    db = Chroma.from_documents(\n",
    "        documents=pages_chunks,\n",
    "        embedding=OpenAIEmbeddings(),\n",
    "        persist_directory='./data/db'\n",
    "    )\n",
    "    db.persist()\n",
    "    return db\n",
    "\n",
    "db = create_db(pages_chunks)"
   ]
  },
  {
   "cell_type": "code",
   "execution_count": 19,
   "id": "1f6c1680",
   "metadata": {},
   "outputs": [
    {
     "data": {
      "text/plain": [
       "langchain_community.vectorstores.chroma.Chroma"
      ]
     },
     "execution_count": 19,
     "metadata": {},
     "output_type": "execute_result"
    }
   ],
   "source": [
    "type(db)"
   ]
  },
  {
   "cell_type": "markdown",
   "id": "e7ea6683",
   "metadata": {},
   "source": [
    "### __Semantic Search Params__"
   ]
  },
  {
   "cell_type": "code",
   "execution_count": 22,
   "id": "468c7f10",
   "metadata": {},
   "outputs": [],
   "source": [
    "QUERY = \"My son was recently diagnosed with autism. I am his dad and I don't get what this means. Could you explain from an autistic person's point of view?\""
   ]
  },
  {
   "cell_type": "code",
   "execution_count": null,
   "id": "80091018",
   "metadata": {},
   "outputs": [],
   "source": [
    "search_results = db.similarity_search_with_score(QUERY, k=5) # Not using the score, as of yet. Also, try to find the most optimal search."
   ]
  },
  {
   "cell_type": "markdown",
   "id": "35b6f1c0",
   "metadata": {},
   "source": [
    "### __Prompting the Model__"
   ]
  },
  {
   "cell_type": "code",
   "execution_count": null,
   "id": "ec43e872",
   "metadata": {},
   "outputs": [],
   "source": [
    "PROMPT = '''\n",
    "Answer the question primarily based on the following context:\n",
    "{context}\n",
    "\n",
    "------------------------------------- v ------------------------------------\n",
    "Answer the question primarily based on the above context:\n",
    "{question}\n",
    "'''"
   ]
  },
  {
   "cell_type": "code",
   "execution_count": 25,
   "id": "429c5de2",
   "metadata": {},
   "outputs": [],
   "source": [
    "from langchain_core.prompts import ChatPromptTemplate\n",
    "\n",
    "context = '\\n\\n------------------------------------- v ------------------------------------\\n\\n'.join([piece.page_content for piece, _score in search_results])\n",
    "final_prompt = ChatPromptTemplate.from_template(PROMPT).format(context=context, question=QUERY)"
   ]
  },
  {
   "cell_type": "code",
   "execution_count": 26,
   "id": "b5529a88",
   "metadata": {},
   "outputs": [
    {
     "name": "stderr",
     "output_type": "stream",
     "text": [
      "C:\\Users\\yashh\\AppData\\Local\\Temp\\ipykernel_26704\\786671523.py:3: LangChainDeprecationWarning: The class `Ollama` was deprecated in LangChain 0.3.1 and will be removed in 1.0.0. An updated version of the class exists in the :class:`~langchain-ollama package and should be used instead. To use it run `pip install -U :class:`~langchain-ollama` and import as `from :class:`~langchain_ollama import OllamaLLM``.\n",
      "  model = Ollama(model='aya-expanse:latest')\n"
     ]
    },
    {
     "name": "stdout",
     "output_type": "stream",
     "text": [
      "Based on the provided text, here’s an explanation about autism from the perspective of an autistic individual, particularly tailored to your situation as a newly informed parent:\n",
      "\n",
      "**First, remember that your son is still the same child he was before the diagnosis.** The autism spectrum is a part of who he is, but it doesn't define *all* of him. He's still your son with his unique personality, interests, and abilities.\n",
      "\n",
      "**Autism means that his brain processes information differently than typically developing individuals.** This can manifest in various ways:\n",
      "\n",
      "* **Sensitivity to sensory input:**  Things like noises, lights, textures, or even smells might feel overwhelming or incomprehensible to him. Think of it as his senses being more intense.\n",
      "* **Challenges with communication:** He may have difficulty expressing himself verbally or non-verbally. This could mean he struggles with words, gestures, or understanding social cues. \n",
      "* **Difficulties with social interactions:** He might find it hard to understand social norms, make friends, or read facial expressions and body language.\n",
      "\n",
      "**It's important to know that there is no \"cure\" for autism.**  While he may learn to manage certain challenges, autism is a lifelong part of him.\n",
      "\n",
      "**Here are some key takeaways from the text:**\n",
      "\n",
      "* **Don't be afraid or ashamed:**  The diagnosis isn't something to be ashamed of. It's simply a label that helps explain your son's unique needs.\n",
      "* **Focus on his strengths:** Every autistic person has their own set of strengths and talents. Encourage these and celebrate them.\n",
      "* **Love and support unconditionally:** Most importantly, show your love and support no matter what. Create a safe and accepting environment for him to learn and grow.\n",
      "\n",
      "**Moving forward, consider:**\n",
      "\n",
      "* **Connecting with autism support groups:** These can be a valuable resource for information, advice, and emotional support from other parents in similar situations.\n",
      "* **Seeking professional help:** A therapist or special needs educator can provide personalized guidance on strategies to support your son's development. \n",
      "* **Learning about sensory integration:** This can help you understand and address your son's sensitivity to sensory input.\n",
      "\n",
      "Remember, this is a journey for both of you. Be patient, be supportive, and celebrate the unique person your son is.\n"
     ]
    }
   ],
   "source": [
    "from langchain_community.llms.ollama import Ollama\n",
    "\n",
    "model = Ollama(model='aya-expanse:latest')\n",
    "response = model.invoke(final_prompt)\n",
    "print(response)"
   ]
  },
  {
   "cell_type": "code",
   "execution_count": 27,
   "id": "9028bb2f",
   "metadata": {},
   "outputs": [
    {
     "name": "stdout",
     "output_type": "stream",
     "text": [
      "As an AI language model, I cannot fully replicate the experience of being autistic, but I can provide you with some insights from an autistic individual's perspective to help you understand your son's diagnosis better. Autism Spectrum Disorder (ASD) is a complex neurodevelopmental condition that affects each person uniquely, so every autistic individual will have their own set of strengths and challenges. Here's what it might be like from an autistic person's point of view:\n",
      "\n",
      "1. **Sensory Perception:** Autistic individuals often experience the world through their senses differently. This can mean heightened or reduced sensitivity to sounds, lights, textures, tastes, and smells. For example, certain fabrics might feel uncomfortable, specific noises (like vacuum cleaners or loud machinery) could be unbearable, or bright lights may cause discomfort or even pain. Understanding that this is not normal for neurotypical people (those without autism) can help you recognize your son's sensory experiences as unique to him.\n",
      "\n",
      "2. **Communication and Social Interaction:** Autism often impacts social communication and interaction. This doesn't mean autistic people lack social skills; instead, they may communicate and interact differently. Some common characteristics include:\n",
      "   - Verbal communication: Your son might use a different vocabulary or have difficulty finding the right words in conversation. He could be literal in his speech, taking figures of speech (like sarcasm) less literally.\n",
      "   - Non-verbal cues: He may struggle with reading body language, facial expressions, or tone of voice, making it hard to understand social cues from others.\n",
      "   - Repetitive and stereotyped behaviors: Stimming (self-stimulatory behaviors like rocking, spinning, or hand flapping) is common among autistic people and can be a way to self-regulate or process sensory input. He might also develop specific routines or insist on certain rituals.\n",
      "\n",
      "3. **Interest and Focus:** Autistic individuals often have intense, focused interests in specific topics. These interests can vary widely, from dinosaurs and space to trains, video games, or a particular sports team. Your son's fascination with a specific subject could be an indicator of his unique way of processing information and learning.\n",
      "\n",
      "4. **Sensory Integration:** Some autistic people have challenges with sensory integration, which is the brain's ability to process and organize incoming sensory information. This can lead to issues with motor skills (like clumsiness), difficulty tolerating certain textures or movements, or even sensory seeking behaviors (trying to find or create more intense sensory experiences).\n",
      "\n",
      "5. **Routine and Predictability:** Many autistic individuals thrive on routines and predictability. Changes in routine can cause anxiety or distress. This doesn't mean we don't adapt or enjoy new things; it's just that consistency provides a sense of comfort and security.\n",
      "\n",
      "6. **Emotional Regulation:** Managing emotions is another aspect that can vary among autistic people. Some may have difficulty identifying or expressing emotions, while others might experience intense emotional responses to seemingly minor events. Learning to recognize and understand these emotions is an important part of self-awareness for many autistic individuals.\n",
      "\n",
      "Remember, autism is not a disease that needs to be \"cured.\" It's a natural variation of the human brain, and each autistic person has their own unique abilities and challenges. By understanding and accommodating his specific needs, you can support your son in leading a fulfilling life. Every step of learning about and embracing his autism will be beneficial for both of you.\n",
      "\n",
      "It's also important to reach out to local support groups, therapists specializing in autism, or online resources to gain more insights and strategies tailored to your son's needs. They can provide valuable guidance as you navigate this new phase together.\n"
     ]
    }
   ],
   "source": [
    "response = model.invoke(QUERY)\n",
    "print(response)"
   ]
  },
  {
   "cell_type": "code",
   "execution_count": 28,
   "id": "834fb872",
   "metadata": {},
   "outputs": [
    {
     "name": "stdout",
     "output_type": "stream",
     "text": [
      "[(Document(metadata={'producer': 'calibre (5.21.0) [https://calibre-ebook.com]', 'author': 'Desconocido', 'source': 'data\\\\in_use\\\\source (1).pdf', 'title': 'Sincerely, Your Autistic Child', 'page_label': '79', 'creator': 'calibre (5.21.0) [https://calibre-ebook.com]', 'total_pages': 201, 'page': 78, 'moddate': '2021-06-28T21:02:08-06:00', 'creationdate': '2021-06-28T05:28:50+00:00'}, page_content='Autism is not an\\neasy developmental condition to deal with, especially if the parents\\ndo not really know how to deal with their kids, or if it is misinterpreted\\nas something else. This is why there should be more autism\\nawareness, as well as autism acceptance: because in order to\\naccept someone for who they are, you have to be aware of what’s\\ngoing on. Some of the things that I will explain, which parents need to know,\\nare that their kids are children, are sensitive to noises, have a tough\\ntime communicating, have trouble with social interactions, and need\\nto be loved unconditionally, no matter what. Kids diagnosed on the\\nautism spectrum have it hard enough as it is! Every parent has to remember that their kids with autism are\\nchildren, and sometimes they might seem younger than their actual\\nage. A parent should explain to their child about having autism in a\\nway that the child can understand. One way is to explain that your\\nchild is different and that their brain processes differently from\\nsomeone who does not have autism. Also, it is not anyone’s fault,\\nespecially hers, that she has autism.'), 0.26215559244155884), (Document(metadata={'moddate': '2021-06-28T21:02:08-06:00', 'total_pages': 201, 'author': 'Desconocido', 'page': 78, 'title': 'Sincerely, Your Autistic Child', 'creator': 'calibre (5.21.0) [https://calibre-ebook.com]', 'producer': 'calibre (5.21.0) [https://calibre-ebook.com]', 'source': 'data\\\\in_use\\\\source (1).pdf', 'page_label': '79', 'creationdate': '2021-06-28T05:28:50+00:00'}, page_content='Autism is not an\\neasy developmental condition to deal with, especially if the parents\\ndo not really know how to deal with their kids, or if it is misinterpreted\\nas something else. This is why there should be more autism\\nawareness, as well as autism acceptance: because in order to\\naccept someone for who they are, you have to be aware of what’s\\ngoing on. Some of the things that I will explain, which parents need to know,\\nare that their kids are children, are sensitive to noises, have a tough\\ntime communicating, have trouble with social interactions, and need\\nto be loved unconditionally, no matter what. Kids diagnosed on the\\nautism spectrum have it hard enough as it is! Every parent has to remember that their kids with autism are\\nchildren, and sometimes they might seem younger than their actual\\nage. A parent should explain to their child about having autism in a\\nway that the child can understand. One way is to explain that your\\nchild is different and that their brain processes differently from\\nsomeone who does not have autism. Also, it is not anyone’s fault,\\nespecially hers, that she has autism.'), 0.26215559244155884), (Document(metadata={'source': 'data\\\\in_use\\\\source (1).pdf', 'page': 145, 'producer': 'calibre (5.21.0) [https://calibre-ebook.com]', 'total_pages': 201, 'creationdate': '2021-06-28T05:28:50+00:00', 'title': 'Sincerely, Your Autistic Child', 'author': 'Desconocido', 'page_label': '146', 'creator': 'calibre (5.21.0) [https://calibre-ebook.com]', 'moddate': '2021-06-28T21:02:08-06:00'}, page_content='23 Tell Me I’m Autistic\\nA n o n y m o u s \\nWe’re looking in the wrong places, trying to be what we think we’re\\nsupposed to be or what society has told us we have to be, and\\ncoming up short every time. ONE OF THE MOST profound things that happened to me in my life,\\naside from the birth of my three beautiful children, was learning that I\\nwas Autistic. After my son was diagnosed, I did quite a lot of\\nresearch to confirm what I had been told. And because I love\\nresearch, you could probably call it my “special interest.” During that\\ntime, I found myself learning, not about things I had never heard but\\nof things I already knew: behaviors, mannerisms, characteristics, or\\nthe ominous-sounding “red flags” and “warning signs.” The names\\nalone scared me! I was reading about things I knew very well from a\\npersonal standpoint. The more I read about autism, the more I saw\\nmyself. My son was a late diagnosis, not because I was in denial, but\\nbecause I didn’t see his characteristics as all that different. Aside\\nfrom his being non-speaking and having developmental disabilities,\\nwe approached life in very similar manners. Long story short, my\\nself-diagnosis came shortly after my son’s, and my formal diagnosis\\nby a professional two years later. My daughter’s autism diagnosis\\nsoon followed.'), 0.27187579870224), (Document(metadata={'creationdate': '2021-06-28T05:28:50+00:00', 'source': 'data\\\\in_use\\\\source (1).pdf', 'title': 'Sincerely, Your Autistic Child', 'moddate': '2021-06-28T21:02:08-06:00', 'producer': 'calibre (5.21.0) [https://calibre-ebook.com]', 'page': 145, 'page_label': '146', 'author': 'Desconocido', 'creator': 'calibre (5.21.0) [https://calibre-ebook.com]', 'total_pages': 201}, page_content='23 Tell Me I’m Autistic\\nA n o n y m o u s \\nWe’re looking in the wrong places, trying to be what we think we’re\\nsupposed to be or what society has told us we have to be, and\\ncoming up short every time. ONE OF THE MOST profound things that happened to me in my life,\\naside from the birth of my three beautiful children, was learning that I\\nwas Autistic. After my son was diagnosed, I did quite a lot of\\nresearch to confirm what I had been told. And because I love\\nresearch, you could probably call it my “special interest.” During that\\ntime, I found myself learning, not about things I had never heard but\\nof things I already knew: behaviors, mannerisms, characteristics, or\\nthe ominous-sounding “red flags” and “warning signs.” The names\\nalone scared me! I was reading about things I knew very well from a\\npersonal standpoint. The more I read about autism, the more I saw\\nmyself. My son was a late diagnosis, not because I was in denial, but\\nbecause I didn’t see his characteristics as all that different. Aside\\nfrom his being non-speaking and having developmental disabilities,\\nwe approached life in very similar manners. Long story short, my\\nself-diagnosis came shortly after my son’s, and my formal diagnosis\\nby a professional two years later. My daughter’s autism diagnosis\\nsoon followed.'), 0.27187579870224), (Document(metadata={'page_label': '11', 'title': 'The Reason I Jump', 'producer': 'calibre 7.24.0', 'creator': 'calibre 7.24.0', 'source': 'data\\\\in_use\\\\source (9).pdf', 'total_pages': 147, 'creationdate': '2025-03-02T21:21:38+00:00', 'page': 10, 'author': 'Naoki Higashida', 'moddate': '2025-03-02T22:21:38+01:00'}, page_content='apologized later, explaining that he never dreamed that the\\nadjective could have caused o\\x00ense. I don’t doubt it.)\\nAutism is no cakewalk for the child’s parents or carers either, and\\nraising an autistic son or daughter is no job for the fainthearted—in\\nfact, faintheartedness is doomed by the \\x00rst niggling doubt that\\nthere’s Something Not Quite Right about your sixteen-month-old. On Diagnosis Day, a child psychologist hands down the verdict with\\na worn-smooth truism about your son still being the same little guy\\nthat he was before this life-rede\\x00ning news was con\\x00rmed. Then\\nyou run the gauntlet of other people’s reactions: “It’s just so sad”;\\n“What, so he’s going to be like Dustin Ho\\x00man in Rain Man?”; “I\\nhope you’re not going to take this so-called ‘diagnosis’ lying down!”;\\nand my favorite, “Yes, well, I told my pediatrician where to go stick\\nhis MMR jabs.” Your \\x00rst contacts with most support agencies will\\nput the last nails in the co\\x00n of faintheartedness, and graft onto\\nyou a layer of scar tissue and cynicism as thick as rhino hide. There\\nare gifted and resourceful people working in autism support, but\\nwith depressing regularity government policy appears to be about\\nBand-Aids and \\x00g leaves, and not about realizing the potential of\\nchildren with special needs and helping them become long-term net\\ncontributors to society. The scant silver lining is that medical theory\\nis no longer blaming your wife for causing the autism by being a\\n“Refrigerator Mother” as it did not so long ago (Refrigerator Fathers\\nwere unavailable for comment) and that you don’t live in a society\\nwhere people with autism are believed to be witches or devils and\\nget treated accordingly. Where to turn to next?'), 0.2728174924850464)]\n"
     ]
    }
   ],
   "source": [
    "print(search_results)"
   ]
  },
  {
   "cell_type": "markdown",
   "id": "6cc39e4c",
   "metadata": {},
   "source": [
    "### __Test the Outputs__"
   ]
  },
  {
   "cell_type": "code",
   "execution_count": null,
   "id": "3f269ba8",
   "metadata": {},
   "outputs": [],
   "source": [
    "# Maybe print out the sources as well??\n",
    "# Mess around with params and search/chunking params\n",
    "# Experiment with more outputs"
   ]
  }
 ],
 "metadata": {
  "kernelspec": {
   "display_name": ".venv",
   "language": "python",
   "name": "python3"
  },
  "language_info": {
   "codemirror_mode": {
    "name": "ipython",
    "version": 3
   },
   "file_extension": ".py",
   "mimetype": "text/x-python",
   "name": "python",
   "nbconvert_exporter": "python",
   "pygments_lexer": "ipython3",
   "version": "3.10.11"
  }
 },
 "nbformat": 4,
 "nbformat_minor": 5
}
