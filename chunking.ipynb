{
 "cells": [
  {
   "cell_type": "markdown",
   "id": "54f54539",
   "metadata": {},
   "source": [
    "### __Reading Data__"
   ]
  },
  {
   "cell_type": "code",
   "execution_count": 1,
   "id": "ff933f1d",
   "metadata": {},
   "outputs": [],
   "source": [
    "from langchain.document_loaders.pdf import PyPDFDirectoryLoader\n",
    "\n",
    "PATH = './data/in_use'\n",
    "\n",
    "def load_documents(path: str) -> PyPDFDirectoryLoader:\n",
    "    \"\"\"Load PDF documents and print its content.\"\"\"\n",
    "    loader = PyPDFDirectoryLoader(path)\n",
    "    return loader.load()\n",
    "\n",
    "docs = load_documents(PATH)"
   ]
  },
  {
   "cell_type": "code",
   "execution_count": 2,
   "id": "9391a8a4",
   "metadata": {},
   "outputs": [
    {
     "name": "stdout",
     "output_type": "stream",
     "text": [
      "<class 'langchain_core.documents.base.Document'>\n"
     ]
    }
   ],
   "source": [
    "print(type(docs[0]))"
   ]
  },
  {
   "cell_type": "markdown",
   "id": "c7d94001",
   "metadata": {},
   "source": [
    "### __Semantic Chunking w/ OpenAI Embeddings__"
   ]
  },
  {
   "cell_type": "code",
   "execution_count": 3,
   "id": "071865c9",
   "metadata": {},
   "outputs": [
    {
     "data": {
      "text/plain": [
       "True"
      ]
     },
     "execution_count": 3,
     "metadata": {},
     "output_type": "execute_result"
    }
   ],
   "source": [
    "from dotenv import load_dotenv\n",
    "\n",
    "load_dotenv()"
   ]
  },
  {
   "cell_type": "code",
   "execution_count": 4,
   "id": "aae2906a",
   "metadata": {},
   "outputs": [],
   "source": [
    "from langchain_experimental.text_splitter import SemanticChunker\n",
    "from langchain_openai.embeddings import OpenAIEmbeddings\n",
    "\n",
    "text_splitter = SemanticChunker(\n",
    "    OpenAIEmbeddings(), breakpoint_threshold_type=\"percentile\" # Look through params, see if breakpoint_threshold_type is optimal\n",
    ")"
   ]
  },
  {
   "cell_type": "code",
   "execution_count": 5,
   "id": "08a77e1e",
   "metadata": {},
   "outputs": [],
   "source": [
    "pages = []\n",
    "for doc in docs:\n",
    "    pages.append(text_splitter.create_documents([doc.page_content]))\n",
    "    # print(pages)"
   ]
  },
  {
   "cell_type": "code",
   "execution_count": 6,
   "id": "8161d599",
   "metadata": {},
   "outputs": [
    {
     "data": {
      "text/plain": [
       "1895"
      ]
     },
     "execution_count": 6,
     "metadata": {},
     "output_type": "execute_result"
    }
   ],
   "source": [
    "len(pages)"
   ]
  },
  {
   "cell_type": "code",
   "execution_count": 7,
   "id": "3f96f573",
   "metadata": {},
   "outputs": [],
   "source": [
    "import itertools\n",
    "pages_chunks = list(itertools.chain.from_iterable(pages))"
   ]
  },
  {
   "cell_type": "code",
   "execution_count": 8,
   "id": "f1090c82",
   "metadata": {},
   "outputs": [
    {
     "data": {
      "text/plain": [
       "4197"
      ]
     },
     "execution_count": 8,
     "metadata": {},
     "output_type": "execute_result"
    }
   ],
   "source": [
    "len(pages_chunks)"
   ]
  },
  {
   "cell_type": "code",
   "execution_count": 9,
   "id": "db21189b",
   "metadata": {},
   "outputs": [
    {
     "data": {
      "text/plain": [
       "list"
      ]
     },
     "execution_count": 9,
     "metadata": {},
     "output_type": "execute_result"
    }
   ],
   "source": [
    "type(pages_chunks)"
   ]
  },
  {
   "cell_type": "code",
   "execution_count": 10,
   "id": "46b86355",
   "metadata": {},
   "outputs": [
    {
     "data": {
      "text/plain": [
       "list"
      ]
     },
     "execution_count": 10,
     "metadata": {},
     "output_type": "execute_result"
    }
   ],
   "source": [
    "type(pages)"
   ]
  }
 ],
 "metadata": {
  "kernelspec": {
   "display_name": ".venv",
   "language": "python",
   "name": "python3"
  },
  "language_info": {
   "codemirror_mode": {
    "name": "ipython",
    "version": 3
   },
   "file_extension": ".py",
   "mimetype": "text/x-python",
   "name": "python",
   "nbconvert_exporter": "python",
   "pygments_lexer": "ipython3",
   "version": "3.10.11"
  }
 },
 "nbformat": 4,
 "nbformat_minor": 5
}
