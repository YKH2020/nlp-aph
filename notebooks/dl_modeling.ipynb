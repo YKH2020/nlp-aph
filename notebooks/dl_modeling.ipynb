{
 "cells": [
  {
   "cell_type": "code",
   "execution_count": 1,
   "id": "51423432",
   "metadata": {},
   "outputs": [
    {
     "data": {
      "text/plain": [
       "True"
      ]
     },
     "execution_count": 1,
     "metadata": {},
     "output_type": "execute_result"
    }
   ],
   "source": [
    "from langchain.document_loaders.pdf import PyPDFDirectoryLoader\n",
    "from langchain_experimental.text_splitter import SemanticChunker\n",
    "from langchain_openai.embeddings import OpenAIEmbeddings\n",
    "from langchain.vectorstores.chroma import Chroma\n",
    "from langchain_core.prompts import ChatPromptTemplate\n",
    "from langchain_community.llms.ollama import Ollama\n",
    "import itertools\n",
    "\n",
    "from dotenv import load_dotenv\n",
    "load_dotenv()"
   ]
  },
  {
   "cell_type": "markdown",
   "id": "54f54539",
   "metadata": {},
   "source": [
    "### __Reading Data__"
   ]
  },
  {
   "cell_type": "code",
   "execution_count": null,
   "id": "ff933f1d",
   "metadata": {},
   "outputs": [],
   "source": [
    "PATH = '../data/in_use'\n",
    "\n",
    "def load_documents(path: str) -> PyPDFDirectoryLoader:\n",
    "    \"\"\"Load PDF documents and print its content.\"\"\"\n",
    "    loader = PyPDFDirectoryLoader(path)\n",
    "    return loader.load()\n",
    "\n",
    "docs = load_documents(PATH)"
   ]
  },
  {
   "cell_type": "code",
   "execution_count": 3,
   "id": "9391a8a4",
   "metadata": {},
   "outputs": [
    {
     "name": "stdout",
     "output_type": "stream",
     "text": [
      "1\n"
     ]
    }
   ],
   "source": [
    "print(int(docs[0].metadata['page_label'])) #Found that not all page labels are ints!"
   ]
  },
  {
   "cell_type": "markdown",
   "id": "c7d94001",
   "metadata": {},
   "source": [
    "### __Semantic Chunking w/ OpenAI Embeddings__"
   ]
  },
  {
   "cell_type": "code",
   "execution_count": 4,
   "id": "aae2906a",
   "metadata": {},
   "outputs": [],
   "source": [
    "text_splitter = SemanticChunker(\n",
    "    OpenAIEmbeddings(model='text-embedding-3-large'), \n",
    "    breakpoint_threshold_type=\"gradient\", # Gradient because our sources fall under the same topic.\n",
    "    buffer_size=0\n",
    ")"
   ]
  },
  {
   "cell_type": "code",
   "execution_count": 5,
   "id": "08a77e1e",
   "metadata": {},
   "outputs": [],
   "source": [
    "ranges = [\n",
    "    (0, 5), (187, 200), (201, 207), (289, 290), (291, 298),\n",
    "    (459, 459), (460, 471), (522, 522), (523, 533),\n",
    "    (730, 738), (739, 745), (1007, 1009), (1012, 1013),\n",
    "    (1014, 1018), (1419, 1421), (1422, 1435), (1704, 1741),\n",
    "    (1747, 1747), (1748, 1755), (1877, 1877), (1891, 1894)\n",
    "]\n",
    "\n",
    "# Flatten ranges to a set of excluded page numbers\n",
    "bad_pages = set()\n",
    "for start, end in ranges:\n",
    "    bad_pages.update(range(start, end + 1))\n",
    "\n",
    "pages = []\n",
    "for i, doc in enumerate(docs):\n",
    "    # Implement removal of certain title / toc pages / disregarding empty page content pages\n",
    "    if doc.page_content != '' and i not in bad_pages:\n",
    "        pages.append(text_splitter.create_documents(texts=[doc.page_content], metadatas=[doc.metadata]))"
   ]
  },
  {
   "cell_type": "code",
   "execution_count": 6,
   "id": "b9e8f16c",
   "metadata": {},
   "outputs": [
    {
     "data": {
      "text/plain": [
       "{0,\n",
       " 1,\n",
       " 2,\n",
       " 3,\n",
       " 4,\n",
       " 5,\n",
       " 187,\n",
       " 188,\n",
       " 189,\n",
       " 190,\n",
       " 191,\n",
       " 192,\n",
       " 193,\n",
       " 194,\n",
       " 195,\n",
       " 196,\n",
       " 197,\n",
       " 198,\n",
       " 199,\n",
       " 200,\n",
       " 201,\n",
       " 202,\n",
       " 203,\n",
       " 204,\n",
       " 205,\n",
       " 206,\n",
       " 207,\n",
       " 289,\n",
       " 290,\n",
       " 291,\n",
       " 292,\n",
       " 293,\n",
       " 294,\n",
       " 295,\n",
       " 296,\n",
       " 297,\n",
       " 298,\n",
       " 459,\n",
       " 460,\n",
       " 461,\n",
       " 462,\n",
       " 463,\n",
       " 464,\n",
       " 465,\n",
       " 466,\n",
       " 467,\n",
       " 468,\n",
       " 469,\n",
       " 470,\n",
       " 471,\n",
       " 522,\n",
       " 523,\n",
       " 524,\n",
       " 525,\n",
       " 526,\n",
       " 527,\n",
       " 528,\n",
       " 529,\n",
       " 530,\n",
       " 531,\n",
       " 532,\n",
       " 533,\n",
       " 730,\n",
       " 731,\n",
       " 732,\n",
       " 733,\n",
       " 734,\n",
       " 735,\n",
       " 736,\n",
       " 737,\n",
       " 738,\n",
       " 739,\n",
       " 740,\n",
       " 741,\n",
       " 742,\n",
       " 743,\n",
       " 744,\n",
       " 745,\n",
       " 1007,\n",
       " 1008,\n",
       " 1009,\n",
       " 1012,\n",
       " 1013,\n",
       " 1014,\n",
       " 1015,\n",
       " 1016,\n",
       " 1017,\n",
       " 1018,\n",
       " 1419,\n",
       " 1420,\n",
       " 1421,\n",
       " 1422,\n",
       " 1423,\n",
       " 1424,\n",
       " 1425,\n",
       " 1426,\n",
       " 1427,\n",
       " 1428,\n",
       " 1429,\n",
       " 1430,\n",
       " 1431,\n",
       " 1432,\n",
       " 1433,\n",
       " 1434,\n",
       " 1435,\n",
       " 1704,\n",
       " 1705,\n",
       " 1706,\n",
       " 1707,\n",
       " 1708,\n",
       " 1709,\n",
       " 1710,\n",
       " 1711,\n",
       " 1712,\n",
       " 1713,\n",
       " 1714,\n",
       " 1715,\n",
       " 1716,\n",
       " 1717,\n",
       " 1718,\n",
       " 1719,\n",
       " 1720,\n",
       " 1721,\n",
       " 1722,\n",
       " 1723,\n",
       " 1724,\n",
       " 1725,\n",
       " 1726,\n",
       " 1727,\n",
       " 1728,\n",
       " 1729,\n",
       " 1730,\n",
       " 1731,\n",
       " 1732,\n",
       " 1733,\n",
       " 1734,\n",
       " 1735,\n",
       " 1736,\n",
       " 1737,\n",
       " 1738,\n",
       " 1739,\n",
       " 1740,\n",
       " 1741,\n",
       " 1747,\n",
       " 1748,\n",
       " 1749,\n",
       " 1750,\n",
       " 1751,\n",
       " 1752,\n",
       " 1753,\n",
       " 1754,\n",
       " 1755,\n",
       " 1877,\n",
       " 1891,\n",
       " 1892,\n",
       " 1893,\n",
       " 1894}"
      ]
     },
     "execution_count": 6,
     "metadata": {},
     "output_type": "execute_result"
    }
   ],
   "source": [
    "bad_pages"
   ]
  },
  {
   "cell_type": "code",
   "execution_count": 7,
   "id": "8161d599",
   "metadata": {},
   "outputs": [
    {
     "data": {
      "text/plain": [
       "1658"
      ]
     },
     "execution_count": 7,
     "metadata": {},
     "output_type": "execute_result"
    }
   ],
   "source": [
    "len(pages)"
   ]
  },
  {
   "cell_type": "code",
   "execution_count": 8,
   "id": "3f96f573",
   "metadata": {},
   "outputs": [],
   "source": [
    "pages_chunks = list(itertools.chain.from_iterable(pages))"
   ]
  },
  {
   "cell_type": "code",
   "execution_count": 9,
   "id": "f1090c82",
   "metadata": {},
   "outputs": [
    {
     "data": {
      "text/plain": [
       "3821"
      ]
     },
     "execution_count": 9,
     "metadata": {},
     "output_type": "execute_result"
    }
   ],
   "source": [
    "len(pages_chunks)"
   ]
  },
  {
   "cell_type": "code",
   "execution_count": 10,
   "id": "db21189b",
   "metadata": {},
   "outputs": [
    {
     "data": {
      "text/plain": [
       "list"
      ]
     },
     "execution_count": 10,
     "metadata": {},
     "output_type": "execute_result"
    }
   ],
   "source": [
    "type(pages_chunks)"
   ]
  },
  {
   "cell_type": "code",
   "execution_count": 11,
   "id": "46b86355",
   "metadata": {},
   "outputs": [
    {
     "data": {
      "text/plain": [
       "list"
      ]
     },
     "execution_count": 11,
     "metadata": {},
     "output_type": "execute_result"
    }
   ],
   "source": [
    "type(pages)"
   ]
  },
  {
   "cell_type": "markdown",
   "id": "e7d6cea7",
   "metadata": {},
   "source": [
    "### __Store in DB__"
   ]
  },
  {
   "cell_type": "code",
   "execution_count": 12,
   "id": "92988327",
   "metadata": {},
   "outputs": [
    {
     "name": "stdout",
     "output_type": "stream",
     "text": [
      "page_content='After I spoke, I opened the floor to questions. There was one I will\n",
      "never forget. “How did you feel,” a student asked, “when your daughter was\n",
      "first diagnosed with autism?”\n",
      "I took a deep breath and answered honestly. “I was terrified,” I\n",
      "said. “I sobbed. I retched over a toilet bowl. Because of everything\n",
      "that I thought that I knew about autism, I could not imagine that there\n",
      "was any real hope of a future for her.”\n",
      "I took another deep breath before I continued. “Because, you see, I didn’t know any better. I didn’t yet know that\n",
      "the terrifying and damaging rhetoric out there about autism wasn’t\n",
      "going to be our reality.”' metadata={'producer': 'calibre (5.21.0) [https://calibre-ebook.com]', 'creator': 'calibre (5.21.0) [https://calibre-ebook.com]', 'creationdate': '2021-06-28T05:28:50+00:00', 'author': 'Desconocido', 'moddate': '2021-06-28T21:02:08-06:00', 'title': 'Sincerely, Your Autistic Child', 'source': 'data\\\\in_use\\\\source (1).pdf', 'total_pages': 201, 'page': 6, 'page_label': '7'}\n"
     ]
    }
   ],
   "source": [
    "print(pages_chunks[1])"
   ]
  },
  {
   "cell_type": "code",
   "execution_count": null,
   "id": "593060d8",
   "metadata": {},
   "outputs": [],
   "source": [
    "def create_db(pages_chunks: list) -> Chroma:\n",
    "    db = Chroma.from_documents(\n",
    "        documents=pages_chunks,\n",
    "        embedding=OpenAIEmbeddings(model='text-embedding-3-large'),\n",
    "        persist_directory='../data/db',\n",
    "        collection_metadata={\"hnsw:space\": \"cosine\"}\n",
    "    )\n",
    "    # db.persist()\n",
    "    return db\n",
    "\n",
    "db = create_db(pages_chunks)"
   ]
  },
  {
   "cell_type": "code",
   "execution_count": 14,
   "id": "1f6c1680",
   "metadata": {},
   "outputs": [
    {
     "data": {
      "text/plain": [
       "langchain_community.vectorstores.chroma.Chroma"
      ]
     },
     "execution_count": 14,
     "metadata": {},
     "output_type": "execute_result"
    }
   ],
   "source": [
    "type(db)"
   ]
  },
  {
   "cell_type": "markdown",
   "id": "e7ea6683",
   "metadata": {},
   "source": [
    "### __Semantic Search Params__"
   ]
  },
  {
   "cell_type": "code",
   "execution_count": 85,
   "id": "468c7f10",
   "metadata": {},
   "outputs": [],
   "source": [
    "# QUERY = \"What is Autism?\"\n",
    "# QUERY = \"I have a son that was recently diagnosed with autism. What are some things that people who have autism do not like? Give examples from what you know\"\n",
    "# QUERY = \"What do you think about Autism Speaks? Is it a good resource to turn to?\"\n",
    "# QUERY = \"What is an IEP? How effective has it been for autistic people? Give me as much info as possible\"\n",
    "# QUERY = 'My daughter is a non-verbal autistic. As such, it is harder to know if she is making progress. Do you have any tips for me to know?'\n",
    "# QUERY = \"What does a traditional IEP look like? How does this integrate into the special educational process?\"\n",
    "# QUERY = \"How can I tell when something is hurting my child when they’re nonverbal?\"\n",
    "# QUERY = \"With so many support groups out there, how do I know which one to join? List out all of them\"\n",
    "QUERY = \"What's the difference between aspergers and autism?\"\n",
    "# QUERY = \"Who is Temple Grandin? Break down everything she believes about autism.\"\n"
   ]
  },
  {
   "cell_type": "code",
   "execution_count": null,
   "id": "80091018",
   "metadata": {},
   "outputs": [],
   "source": [
    "def access_db() -> Chroma:\n",
    "    return Chroma(\n",
    "        persist_directory='../data/db',\n",
    "        embedding_function=OpenAIEmbeddings(model='text-embedding-3-large')\n",
    "    )\n",
    "\n",
    "db = access_db()\n",
    "search_results = db.similarity_search_with_score(QUERY, k=5) # Messing around"
   ]
  },
  {
   "cell_type": "markdown",
   "id": "35b6f1c0",
   "metadata": {},
   "source": [
    "### __Prompting the Model__"
   ]
  },
  {
   "cell_type": "code",
   "execution_count": 87,
   "id": "ec43e872",
   "metadata": {},
   "outputs": [],
   "source": [
    "PROMPT = '''\n",
    "Answer the question using the following context:\n",
    "{context}\n",
    "\n",
    "_______\n",
    "Answer the question using the above context:\n",
    "{question}\n",
    "'''"
   ]
  },
  {
   "cell_type": "code",
   "execution_count": 88,
   "id": "429c5de2",
   "metadata": {},
   "outputs": [
    {
     "name": "stdout",
     "output_type": "stream",
     "text": [
      "Human: \n",
      "Answer the question using the following context:\n",
      "Children with Asperger's syndrome have\n",
      "more normal speech development and much better cognitive skills\n",
      "than those with classic Kanner's. Another label for Asperger's\n",
      "syndrome is “high-functioning autism.” One noticeable di\u0000erence\n",
      "between Kanner's and Asperger's syndromes is that Asperger\n",
      "children are often clumsy. The diagnosis of Asperger's is often\n",
      "confused with PDD, a label that is applied to children with mild\n",
      "symptoms which are not quite serious enough to call for one of the\n",
      "other labels. Children diagnosed as having disintegrative disorder start to\n",
      "develop normal speech and social behavior and then regress and\n",
      "lose their speech after age two. Many of them never regain their\n",
      "speech, and they have di\u0000culty learning simple household chores.\n",
      "\n",
      "_______\n",
      "\n",
      "There are di\u0000erences of opinion in the autism \u0000eld about the\n",
      "relationship between autism and Asperger's. Are they really separate\n",
      "syndromes?\n",
      "\n",
      "_______\n",
      "Answer the question using the above context:\n",
      "What's the difference between aspergers and autism?\n",
      "\n"
     ]
    }
   ],
   "source": [
    "def remove_subset_chunks(chunks: list[str]) -> list[str]:\n",
    "    unique_chunks = []\n",
    "    for chunk in sorted(chunks, key=len, reverse=True): \n",
    "        if not any(chunk in uc for uc in unique_chunks):\n",
    "            unique_chunks.append(chunk)\n",
    "    return unique_chunks\n",
    "\n",
    "# Start from raw results\n",
    "raw_chunks = [doc.page_content.strip() for doc, _ in search_results]\n",
    "\n",
    "# Step 1: remove exact duplicates\n",
    "raw_chunks = list(set(raw_chunks))\n",
    "\n",
    "# Step 2: remove subset duplicates\n",
    "filtered_chunks = remove_subset_chunks(raw_chunks)\n",
    "\n",
    "# Optional: assemble into prompt\n",
    "context = \"\\n\\n_______\\n\\n\".join(filtered_chunks)\n",
    "final_prompt = ChatPromptTemplate.from_template(PROMPT).format(context=context, question=QUERY)\n",
    "print(final_prompt)"
   ]
  },
  {
   "cell_type": "code",
   "execution_count": 89,
   "id": "b5529a88",
   "metadata": {},
   "outputs": [
    {
     "name": "stdout",
     "output_type": "stream",
     "text": [
      "It's important to note that Asperger syndrome (AS) is no longer considered a separate diagnosis from Autism Spectrum Disorder (ASD). In the past, these terms were used differently, but according to modern diagnostic criteria, they are now both classified under ASD.\n",
      "\n",
      "The changes were made in 2013 when the Diagnostic and Statistical Manual of Mental Disorders (DSM-5) was published by the American Psychiatric Association. Before this, Asperger's syndrome was seen as a unique condition characterized by significant social and communication difficulties, along with restricted and repetitive patterns of behavior or interests, but with normal or even above-average intelligence.\n",
      "\n",
      "Here are some key differences that were often attributed to Asperger's syndrome compared to classic autism:\n",
      "\n",
      "1. **Communication Skills**: Individuals with Asperger's syndrome typically have well-developed verbal skills and can use language in a sophisticated manner. They may struggle more with social aspects of communication, such as non-verbal cues, sarcasm, or figurative language.\n",
      "\n",
      "2. **Social Interaction**: People with Asperger's were often described as having \"special interests\" rather than repetitive behaviors. Their areas of interest could be quite intense and focused, but they might not display the same level of restricted and repetitive behaviors seen in other forms of autism. They may also have more difficulty understanding social norms and expectations.\n",
      "\n",
      "3. **Intellectual Abilities**: Many individuals with Asperger's syndrome are highly intelligent or have average to above-average intelligence. This is in contrast to some forms of autism where intellectual disability is more common.\n",
      "\n",
      "4. **Language Development**: While language development may be delayed slightly, children with Asperger's often reach typical milestones and can even exhibit advanced vocabulary at a young age.\n",
      "\n",
      "However, it's crucial to understand that these distinctions were based on observed behaviors and symptoms rather than underlying causes or brain function. The changes in diagnosis reflect a growing understanding that autism exists on a spectrum, with varying strengths and challenges in social communication and interaction, as well as restricted repetitive patterns of behavior across all individuals diagnosed with ASD.\n",
      "\n",
      "Today, healthcare professionals diagnose individuals using the criteria outlined in the DSM-5, which groups together various forms of autism under the umbrella term Autism Spectrum Disorder. The focus is now on supporting individuals with ASD based on their specific needs and strengths rather than distinguishing between different types of autism.\n"
     ]
    }
   ],
   "source": [
    "model = Ollama(model='aya-expanse:latest')\n",
    "response = model.invoke(QUERY)\n",
    "print(response)"
   ]
  },
  {
   "cell_type": "code",
   "execution_count": 90,
   "id": "9028bb2f",
   "metadata": {},
   "outputs": [
    {
     "name": "stdout",
     "output_type": "stream",
     "text": [
      "Based on the provided context, here are the key differences between Asperger's syndrome (also known as \"high-functioning autism\") and classic Kanner's autism:\n",
      "\n",
      "1. **Speech Development**: Children with Asperger's syndrome have more normal speech development compared to those with Kanner's autism.\n",
      "\n",
      "2. **Cognitive Skills**: Asperger's children often have much better cognitive skills than those with Kanner's autism.\n",
      "\n",
      "3. **Clumsiness**: Asperger's children are often clumsy, which is not typically seen in classic autism.\n",
      "\n",
      "4. **Regression**: Children diagnosed with Kanner's autism may start to develop normal speech and social behavior but then regress and lose their speech after age two, while this regression is not typically seen in Asperger's syndrome.\n",
      "\n",
      "Regarding the broader field of opinion on the relationship between autism and Asperger's: There are differing views within the autism community about whether they are truly separate syndromes or simply different spectrum manifestations of autism. Some argue that the distinction is more about the severity of symptoms rather than fundamentally different conditions.\n"
     ]
    }
   ],
   "source": [
    "response = model.invoke(final_prompt)\n",
    "print(response)"
   ]
  },
  {
   "cell_type": "code",
   "execution_count": 91,
   "id": "834fb872",
   "metadata": {},
   "outputs": [
    {
     "name": "stdout",
     "output_type": "stream",
     "text": [
      "[0.7694489359855652, 0.7703234553337097, 0.839470624923706, 0.8395398855209351, 0.8667991161346436]\n"
     ]
    }
   ],
   "source": [
    "print([score for _, score in search_results])"
   ]
  },
  {
   "cell_type": "code",
   "execution_count": 92,
   "id": "8bbc803c",
   "metadata": {},
   "outputs": [
    {
     "name": "stdout",
     "output_type": "stream",
     "text": [
      "We got this response based on the following trustworthy and reputable source(s):\n",
      "\n",
      "Thinking in pictures: and other reports from my life with autism — Temple Grandin\n"
     ]
    }
   ],
   "source": [
    "sources = '\\n\\n_______\\n\\n'.join(\n",
    "    {f\"{piece.metadata.get('title')} — {piece.metadata.get('author')}\"\n",
    "     for piece, _ in search_results}\n",
    ")\n",
    "print(f'We got this response based on the following trustworthy and reputable source(s):\\n\\n{sources}')\n",
    "# Update Metadata in future!"
   ]
  }
 ],
 "metadata": {
  "kernelspec": {
   "display_name": ".venv",
   "language": "python",
   "name": "python3"
  },
  "language_info": {
   "codemirror_mode": {
    "name": "ipython",
    "version": 3
   },
   "file_extension": ".py",
   "mimetype": "text/x-python",
   "name": "python",
   "nbconvert_exporter": "python",
   "pygments_lexer": "ipython3",
   "version": "3.10.11"
  }
 },
 "nbformat": 4,
 "nbformat_minor": 5
}
